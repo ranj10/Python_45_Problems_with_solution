{
  "cells": [
    {
      "cell_type": "markdown",
      "metadata": {
        "id": "view-in-github",
        "colab_type": "text"
      },
      "source": [
        "<a href=\"https://colab.research.google.com/github/ranj10/Python_45_Problems_with_solution/blob/main/Odin_Python_practice_L1_25.ipynb\" target=\"_parent\"><img src=\"https://colab.research.google.com/assets/colab-badge.svg\" alt=\"Open In Colab\"/></a>"
      ]
    },
    {
      "cell_type": "code",
      "source": [
        "import numpy as np"
      ],
      "metadata": {
        "id": "KS5qBCZ0XvLx"
      },
      "execution_count": null,
      "outputs": []
    },
    {
      "cell_type": "code",
      "source": [
        "n=input(\"Enter your name :\")\n",
        "a=int(input(\"Enter your age in years :\"))\n",
        "g=input(\"Enter your gender :\")\n",
        "o=input(\"Enter your occupation :\")\n",
        "w=float(input(\"Enter your weight (in kg) :\"))\n",
        "h=float(input(\"Enter your height (in cms) :\"))\n",
        "print(\"{} is {} year old {} {}\".format(n,a,g,o))\n"
      ],
      "metadata": {
        "id": "NtrnF4y-bBGD",
        "outputId": "9873fd32-9a7c-42fa-f5da-57c26183899b",
        "colab": {
          "base_uri": "https://localhost:8080/"
        }
      },
      "execution_count": null,
      "outputs": [
        {
          "output_type": "stream",
          "name": "stdout",
          "text": [
            "Enter your name :ranjana\n",
            "Enter your age in years :31\n",
            "Enter your gender :f\n",
            "Enter your occupation :b\n",
            "Enter your weight (in kg) :58\n",
            "Enter your height (in cms) :155\n",
            "ranjana is 31 year old f b\n"
          ]
        }
      ]
    },
    {
      "cell_type": "code",
      "source": [
        "h2=h/100\n",
        "bmi=w/(h2**2)\n",
        "print(\"BMI of {} is : {:.2f}\".format(n,bmi))"
      ],
      "metadata": {
        "id": "JXsKMhCzX3EG",
        "outputId": "96e0f296-6b89-462b-da55-776f4e5f7770",
        "colab": {
          "base_uri": "https://localhost:8080/"
        }
      },
      "execution_count": null,
      "outputs": [
        {
          "output_type": "stream",
          "name": "stdout",
          "text": [
            "BMI of ranjana is : 24.14\n"
          ]
        }
      ]
    },
    {
      "cell_type": "code",
      "source": [
        "a1=10\n",
        "b1=12\n",
        "c1=0\n",
        "d1=-1"
      ],
      "metadata": {
        "id": "WCJcJ31UX3Gf"
      },
      "execution_count": null,
      "outputs": []
    },
    {
      "cell_type": "code",
      "source": [
        "(a1<b1) and (a1+1>b1)\n"
      ],
      "metadata": {
        "id": "gbJXZ5j6X3KM",
        "outputId": "13cec64b-cb80-4192-ba14-5d2fbab18c5a",
        "colab": {
          "base_uri": "https://localhost:8080/"
        }
      },
      "execution_count": null,
      "outputs": [
        {
          "output_type": "execute_result",
          "data": {
            "text/plain": [
              "False"
            ]
          },
          "metadata": {},
          "execution_count": 79
        }
      ]
    },
    {
      "cell_type": "code",
      "source": [
        "1==1 or 1==2"
      ],
      "metadata": {
        "id": "LkFW29tZtB7Q",
        "outputId": "cfe796a8-f710-4c6d-8f8c-a20c7f00572c",
        "colab": {
          "base_uri": "https://localhost:8080/"
        }
      },
      "execution_count": null,
      "outputs": [
        {
          "output_type": "execute_result",
          "data": {
            "text/plain": [
              "True"
            ]
          },
          "metadata": {},
          "execution_count": 80
        }
      ]
    },
    {
      "cell_type": "code",
      "source": [
        "0 or False"
      ],
      "metadata": {
        "id": "tCl_ofqTtB99",
        "outputId": "c1150857-ecef-4e57-c3ff-3db77ab318c3",
        "colab": {
          "base_uri": "https://localhost:8080/"
        }
      },
      "execution_count": null,
      "outputs": [
        {
          "output_type": "execute_result",
          "data": {
            "text/plain": [
              "False"
            ]
          },
          "metadata": {},
          "execution_count": 81
        }
      ]
    },
    {
      "cell_type": "code",
      "source": [
        "1 or False"
      ],
      "metadata": {
        "id": "3GUtAH5NtCAM",
        "outputId": "a4610369-5a9f-4f97-b2ef-ff7c8098c1c4",
        "colab": {
          "base_uri": "https://localhost:8080/"
        }
      },
      "execution_count": null,
      "outputs": [
        {
          "output_type": "execute_result",
          "data": {
            "text/plain": [
              "1"
            ]
          },
          "metadata": {},
          "execution_count": 82
        }
      ]
    },
    {
      "cell_type": "code",
      "source": [
        "False or 1"
      ],
      "metadata": {
        "id": "SU1BMxGetCCf",
        "outputId": "b270a222-beed-4f75-a888-f0b1c11e0538",
        "colab": {
          "base_uri": "https://localhost:8080/"
        }
      },
      "execution_count": null,
      "outputs": [
        {
          "output_type": "execute_result",
          "data": {
            "text/plain": [
              "1"
            ]
          },
          "metadata": {},
          "execution_count": 83
        }
      ]
    },
    {
      "cell_type": "code",
      "source": [
        "False and 1"
      ],
      "metadata": {
        "id": "NOa9gDNotCE0",
        "outputId": "fab7cce7-bd70-4f98-afe9-428942b40272",
        "colab": {
          "base_uri": "https://localhost:8080/"
        }
      },
      "execution_count": null,
      "outputs": [
        {
          "output_type": "execute_result",
          "data": {
            "text/plain": [
              "False"
            ]
          },
          "metadata": {},
          "execution_count": 84
        }
      ]
    },
    {
      "cell_type": "code",
      "source": [
        "not 0 or not'A'"
      ],
      "metadata": {
        "id": "RntPbqbMtCHJ",
        "outputId": "8670504f-ff10-45ba-cb76-a848236c3641",
        "colab": {
          "base_uri": "https://localhost:8080/"
        }
      },
      "execution_count": null,
      "outputs": [
        {
          "output_type": "execute_result",
          "data": {
            "text/plain": [
              "True"
            ]
          },
          "metadata": {},
          "execution_count": 85
        }
      ]
    },
    {
      "cell_type": "code",
      "source": [
        "False or \"\""
      ],
      "metadata": {
        "id": "opPPAX1-tCJK",
        "outputId": "a3273f63-5783-401f-e4b0-58ccc059b210",
        "colab": {
          "base_uri": "https://localhost:8080/",
          "height": 36
        }
      },
      "execution_count": null,
      "outputs": [
        {
          "output_type": "execute_result",
          "data": {
            "text/plain": [
              "''"
            ],
            "application/vnd.google.colaboratory.intrinsic+json": {
              "type": "string"
            }
          },
          "metadata": {},
          "execution_count": 86
        }
      ]
    },
    {
      "cell_type": "code",
      "source": [
        "True and \" \""
      ],
      "metadata": {
        "id": "7saD9xXjtCLq",
        "outputId": "b62bae74-2eb7-4204-9ccf-0f7cba002095",
        "colab": {
          "base_uri": "https://localhost:8080/",
          "height": 36
        }
      },
      "execution_count": null,
      "outputs": [
        {
          "output_type": "execute_result",
          "data": {
            "text/plain": [
              "' '"
            ],
            "application/vnd.google.colaboratory.intrinsic+json": {
              "type": "string"
            }
          },
          "metadata": {},
          "execution_count": 87
        }
      ]
    },
    {
      "cell_type": "code",
      "source": [
        "d1 or c1"
      ],
      "metadata": {
        "id": "ELIErz9WtCNi",
        "outputId": "77238e9f-4d51-4874-c6b6-c3549af9bf68",
        "colab": {
          "base_uri": "https://localhost:8080/"
        }
      },
      "execution_count": null,
      "outputs": [
        {
          "output_type": "execute_result",
          "data": {
            "text/plain": [
              "-1"
            ]
          },
          "metadata": {},
          "execution_count": 88
        }
      ]
    },
    {
      "cell_type": "code",
      "source": [
        "not d1 and c1"
      ],
      "metadata": {
        "id": "C9i2gmA6tCPQ",
        "outputId": "0a8e2f5f-05f9-4e57-fbe3-415aab5d0c05",
        "colab": {
          "base_uri": "https://localhost:8080/"
        }
      },
      "execution_count": null,
      "outputs": [
        {
          "output_type": "execute_result",
          "data": {
            "text/plain": [
              "False"
            ]
          },
          "metadata": {},
          "execution_count": 89
        }
      ]
    },
    {
      "cell_type": "code",
      "source": [
        "c1 and not d1"
      ],
      "metadata": {
        "id": "pME0KP92tCRX",
        "outputId": "3f66860a-6052-4f02-f6c0-b58dc0a706a8",
        "colab": {
          "base_uri": "https://localhost:8080/"
        }
      },
      "execution_count": null,
      "outputs": [
        {
          "output_type": "execute_result",
          "data": {
            "text/plain": [
              "0"
            ]
          },
          "metadata": {},
          "execution_count": 90
        }
      ]
    },
    {
      "cell_type": "code",
      "source": [
        "str(c1) in str(a1)"
      ],
      "metadata": {
        "id": "179ZEZcltCU2",
        "outputId": "a10fe168-2b27-4f80-fc5d-16c25c752e3d",
        "colab": {
          "base_uri": "https://localhost:8080/",
          "height": 165
        }
      },
      "execution_count": null,
      "outputs": [
        {
          "output_type": "error",
          "ename": "TypeError",
          "evalue": "ignored",
          "traceback": [
            "\u001b[0;31m---------------------------------------------------------------------------\u001b[0m",
            "\u001b[0;31mTypeError\u001b[0m                                 Traceback (most recent call last)",
            "\u001b[0;32m<ipython-input-92-8503f0239b38>\u001b[0m in \u001b[0;36m<cell line: 1>\u001b[0;34m()\u001b[0m\n\u001b[0;32m----> 1\u001b[0;31m \u001b[0mstr\u001b[0m\u001b[0;34m(\u001b[0m\u001b[0mc1\u001b[0m\u001b[0;34m)\u001b[0m \u001b[0;32min\u001b[0m \u001b[0mstr\u001b[0m\u001b[0;34m(\u001b[0m\u001b[0ma1\u001b[0m\u001b[0;34m)\u001b[0m\u001b[0;34m\u001b[0m\u001b[0;34m\u001b[0m\u001b[0m\n\u001b[0m",
            "\u001b[0;31mTypeError\u001b[0m: 'str' object is not callable"
          ]
        }
      ]
    },
    {
      "cell_type": "code",
      "source": [
        "3' in str(a1)"
      ],
      "metadata": {
        "id": "5yde5PbQvW8i",
        "outputId": "876ab17b-619f-41f1-c741-e2e41cd53c19",
        "colab": {
          "base_uri": "https://localhost:8080/",
          "height": 130
        }
      },
      "execution_count": null,
      "outputs": [
        {
          "output_type": "error",
          "ename": "SyntaxError",
          "evalue": "ignored",
          "traceback": [
            "\u001b[0;36m  File \u001b[0;32m\"<ipython-input-93-6e43f78e3a2f>\"\u001b[0;36m, line \u001b[0;32m1\u001b[0m\n\u001b[0;31m    3' in str(a1)\u001b[0m\n\u001b[0m     ^\u001b[0m\n\u001b[0;31mSyntaxError\u001b[0m\u001b[0;31m:\u001b[0m unterminated string literal (detected at line 1)\n"
          ]
        }
      ]
    },
    {
      "cell_type": "code",
      "source": [
        "stri=\"Let us discuss collection\""
      ],
      "metadata": {
        "id": "8BHUV188HhHE"
      },
      "execution_count": null,
      "outputs": []
    },
    {
      "cell_type": "code",
      "source": [
        "type(stri)"
      ],
      "metadata": {
        "id": "dVw8wGS1HhSU",
        "outputId": "6dd1339a-5613-45fa-972a-1d97c5d32e73",
        "colab": {
          "base_uri": "https://localhost:8080/"
        }
      },
      "execution_count": null,
      "outputs": [
        {
          "output_type": "execute_result",
          "data": {
            "text/plain": [
              "str"
            ]
          },
          "metadata": {},
          "execution_count": 96
        }
      ]
    },
    {
      "cell_type": "code",
      "source": [
        "print(stri[2])"
      ],
      "metadata": {
        "id": "_jApkIqfHhVX",
        "outputId": "c75adf3f-673f-46d8-c399-e1b971058e8f",
        "colab": {
          "base_uri": "https://localhost:8080/"
        }
      },
      "execution_count": null,
      "outputs": [
        {
          "output_type": "stream",
          "name": "stdout",
          "text": [
            "t\n"
          ]
        }
      ]
    },
    {
      "cell_type": "code",
      "source": [
        "stri[2]=\"tts\" #it will return error"
      ],
      "metadata": {
        "id": "9xyvFokvJdi0",
        "outputId": "e6ca0c83-725d-4f12-976f-fd75cefe5d60",
        "colab": {
          "base_uri": "https://localhost:8080/",
          "height": 165
        }
      },
      "execution_count": null,
      "outputs": [
        {
          "output_type": "error",
          "ename": "TypeError",
          "evalue": "ignored",
          "traceback": [
            "\u001b[0;31m---------------------------------------------------------------------------\u001b[0m",
            "\u001b[0;31mTypeError\u001b[0m                                 Traceback (most recent call last)",
            "\u001b[0;32m<ipython-input-99-941edcc5493a>\u001b[0m in \u001b[0;36m<cell line: 1>\u001b[0;34m()\u001b[0m\n\u001b[0;32m----> 1\u001b[0;31m \u001b[0mstri\u001b[0m\u001b[0;34m[\u001b[0m\u001b[0;36m2\u001b[0m\u001b[0;34m]\u001b[0m\u001b[0;34m=\u001b[0m\u001b[0;34m\"tts\"\u001b[0m \u001b[0;31m#it will return error\u001b[0m\u001b[0;34m\u001b[0m\u001b[0;34m\u001b[0m\u001b[0m\n\u001b[0m",
            "\u001b[0;31mTypeError\u001b[0m: 'str' object does not support item assignment"
          ]
        }
      ]
    },
    {
      "cell_type": "code",
      "source": [
        "list=['applae',20,2.5,True,0]"
      ],
      "metadata": {
        "id": "qZ7Xwr9dHhY4"
      },
      "execution_count": null,
      "outputs": []
    },
    {
      "cell_type": "code",
      "source": [
        "type(list)"
      ],
      "metadata": {
        "id": "Fh8u6QXvIXUf",
        "outputId": "995c3e12-f141-435d-d839-aa4ad4f65ff0",
        "colab": {
          "base_uri": "https://localhost:8080/"
        }
      },
      "execution_count": null,
      "outputs": [
        {
          "output_type": "execute_result",
          "data": {
            "text/plain": [
              "list"
            ]
          },
          "metadata": {},
          "execution_count": 101
        }
      ]
    },
    {
      "cell_type": "code",
      "source": [
        "list[2]"
      ],
      "metadata": {
        "id": "3x4hSC06IXXX",
        "outputId": "484c3e87-92ba-405d-d8dd-a68bedd3adb1",
        "colab": {
          "base_uri": "https://localhost:8080/"
        }
      },
      "execution_count": null,
      "outputs": [
        {
          "output_type": "execute_result",
          "data": {
            "text/plain": [
              "2.5"
            ]
          },
          "metadata": {},
          "execution_count": 102
        }
      ]
    },
    {
      "cell_type": "code",
      "source": [
        "list[2]=\"two\""
      ],
      "metadata": {
        "id": "ydZjLp_NIXaH"
      },
      "execution_count": null,
      "outputs": []
    },
    {
      "cell_type": "code",
      "source": [
        "list\n"
      ],
      "metadata": {
        "id": "5wkKHXvfIXdf",
        "outputId": "465cc8c9-8e71-4588-cecc-f241b410b370",
        "colab": {
          "base_uri": "https://localhost:8080/"
        }
      },
      "execution_count": null,
      "outputs": [
        {
          "output_type": "execute_result",
          "data": {
            "text/plain": [
              "['applae', 20, 'two', True, 0]"
            ]
          },
          "metadata": {},
          "execution_count": 104
        }
      ]
    },
    {
      "cell_type": "code",
      "source": [
        "tuple=('apple',20,2.5,True,0)"
      ],
      "metadata": {
        "id": "qwLuin5EIXgn"
      },
      "execution_count": null,
      "outputs": []
    },
    {
      "cell_type": "code",
      "source": [
        "type(tuple)"
      ],
      "metadata": {
        "id": "JX21fi5eIXsg",
        "outputId": "e1b4d5e4-74b5-49dd-b9f2-6da2eb9d3c58",
        "colab": {
          "base_uri": "https://localhost:8080/"
        }
      },
      "execution_count": null,
      "outputs": [
        {
          "output_type": "execute_result",
          "data": {
            "text/plain": [
              "tuple"
            ]
          },
          "metadata": {},
          "execution_count": 106
        }
      ]
    },
    {
      "cell_type": "code",
      "source": [
        "tuple[2]"
      ],
      "metadata": {
        "id": "K-juwWZbKY4d",
        "outputId": "73263396-2384-4a8a-a77a-082dffb53d46",
        "colab": {
          "base_uri": "https://localhost:8080/"
        }
      },
      "execution_count": null,
      "outputs": [
        {
          "output_type": "execute_result",
          "data": {
            "text/plain": [
              "2.5"
            ]
          },
          "metadata": {},
          "execution_count": 107
        }
      ]
    },
    {
      "cell_type": "code",
      "source": [
        "tuple[2]=\"three\" #it will return error"
      ],
      "metadata": {
        "id": "SuRjABL8KY65",
        "outputId": "0e9d1707-7cf0-47cb-cfa7-4734a69115b6",
        "colab": {
          "base_uri": "https://localhost:8080/",
          "height": 165
        }
      },
      "execution_count": null,
      "outputs": [
        {
          "output_type": "error",
          "ename": "TypeError",
          "evalue": "ignored",
          "traceback": [
            "\u001b[0;31m---------------------------------------------------------------------------\u001b[0m",
            "\u001b[0;31mTypeError\u001b[0m                                 Traceback (most recent call last)",
            "\u001b[0;32m<ipython-input-109-a4a15667a43e>\u001b[0m in \u001b[0;36m<cell line: 1>\u001b[0;34m()\u001b[0m\n\u001b[0;32m----> 1\u001b[0;31m \u001b[0mtuple\u001b[0m\u001b[0;34m[\u001b[0m\u001b[0;36m2\u001b[0m\u001b[0;34m]\u001b[0m\u001b[0;34m=\u001b[0m\u001b[0;34m\"three\"\u001b[0m \u001b[0;31m#it will return error\u001b[0m\u001b[0;34m\u001b[0m\u001b[0;34m\u001b[0m\u001b[0m\n\u001b[0m",
            "\u001b[0;31mTypeError\u001b[0m: 'tuple' object does not support item assignment"
          ]
        }
      ]
    },
    {
      "cell_type": "code",
      "source": [
        "set={'apple',20,2.5,True,0,3,5,5,6,7,6}"
      ],
      "metadata": {
        "id": "gBL7AjwvKY9c"
      },
      "execution_count": null,
      "outputs": []
    },
    {
      "cell_type": "code",
      "source": [
        "type(set)"
      ],
      "metadata": {
        "id": "i1A9wHmJKY_y",
        "outputId": "f0d9f9bd-a750-43bc-d956-440e73d29a5f",
        "colab": {
          "base_uri": "https://localhost:8080/"
        }
      },
      "execution_count": null,
      "outputs": [
        {
          "output_type": "execute_result",
          "data": {
            "text/plain": [
              "set"
            ]
          },
          "metadata": {},
          "execution_count": 111
        }
      ]
    },
    {
      "cell_type": "code",
      "source": [
        "set[2] #it does not have index"
      ],
      "metadata": {
        "id": "xUa9y8L2KZCI",
        "outputId": "5b3e389b-841c-44c0-a23d-2b6a343b7690",
        "colab": {
          "base_uri": "https://localhost:8080/",
          "height": 165
        }
      },
      "execution_count": null,
      "outputs": [
        {
          "output_type": "error",
          "ename": "TypeError",
          "evalue": "ignored",
          "traceback": [
            "\u001b[0;31m---------------------------------------------------------------------------\u001b[0m",
            "\u001b[0;31mTypeError\u001b[0m                                 Traceback (most recent call last)",
            "\u001b[0;32m<ipython-input-113-ec1b6512635d>\u001b[0m in \u001b[0;36m<cell line: 1>\u001b[0;34m()\u001b[0m\n\u001b[0;32m----> 1\u001b[0;31m \u001b[0mset\u001b[0m\u001b[0;34m[\u001b[0m\u001b[0;36m2\u001b[0m\u001b[0;34m]\u001b[0m \u001b[0;31m#it does not have index\u001b[0m\u001b[0;34m\u001b[0m\u001b[0;34m\u001b[0m\u001b[0m\n\u001b[0m",
            "\u001b[0;31mTypeError\u001b[0m: 'set' object is not subscriptable"
          ]
        }
      ]
    },
    {
      "cell_type": "code",
      "source": [
        "print(set) #prints only unique value"
      ],
      "metadata": {
        "id": "rZRret5iKZEe",
        "outputId": "360a0344-5a33-4a4c-aabd-f76ce677064b",
        "colab": {
          "base_uri": "https://localhost:8080/"
        }
      },
      "execution_count": null,
      "outputs": [
        {
          "output_type": "stream",
          "name": "stdout",
          "text": [
            "{0, 'apple', 2.5, 3, True, 5, 6, 7, 20}\n"
          ]
        }
      ]
    },
    {
      "cell_type": "code",
      "source": [
        "dict={'name': 'ranjana','age' : '31', 'gender' : 'female'}"
      ],
      "metadata": {
        "id": "MhyF4Z12XRVQ"
      },
      "execution_count": null,
      "outputs": []
    },
    {
      "cell_type": "code",
      "source": [
        "21\n",
        "522dict[1]# not indexable"
      ],
      "metadata": {
        "id": "l1uJ3C17Xshs",
        "outputId": "9d9da5b4-360d-40e9-afb8-026f325cda7b",
        "colab": {
          "base_uri": "https://localhost:8080/",
          "height": 165
        }
      },
      "execution_count": null,
      "outputs": [
        {
          "output_type": "error",
          "ename": "KeyError",
          "evalue": "ignored",
          "traceback": [
            "\u001b[0;31m---------------------------------------------------------------------------\u001b[0m",
            "\u001b[0;31mKeyError\u001b[0m                                  Traceback (most recent call last)",
            "\u001b[0;32m<ipython-input-117-b3f13715ad0a>\u001b[0m in \u001b[0;36m<cell line: 1>\u001b[0;34m()\u001b[0m\n\u001b[0;32m----> 1\u001b[0;31m \u001b[0mdict\u001b[0m\u001b[0;34m[\u001b[0m\u001b[0;36m1\u001b[0m\u001b[0;34m]\u001b[0m\u001b[0;31m# not indexable\u001b[0m\u001b[0;34m\u001b[0m\u001b[0;34m\u001b[0m\u001b[0m\n\u001b[0m",
            "\u001b[0;31mKeyError\u001b[0m: 1"
          ]
        }
      ]
    },
    {
      "cell_type": "code",
      "source": [
        "print(dict['name'])"
      ],
      "metadata": {
        "id": "vgdmVtAyZegh",
        "outputId": "25414200-75de-4c84-86d9-b10b679ed44a",
        "colab": {
          "base_uri": "https://localhost:8080/"
        }
      },
      "execution_count": null,
      "outputs": [
        {
          "output_type": "stream",
          "name": "stdout",
          "text": [
            "ranjana\n"
          ]
        }
      ]
    },
    {
      "cell_type": "code",
      "source": [
        "print(dict)"
      ],
      "metadata": {
        "id": "Gw35mI10Xskv",
        "outputId": "8b17a634-efb9-4c0a-8d62-1edab8928027",
        "colab": {
          "base_uri": "https://localhost:8080/"
        }
      },
      "execution_count": null,
      "outputs": [
        {
          "output_type": "stream",
          "name": "stdout",
          "text": [
            "{'name': 'ranjana', 'age': '31', 'gender': 'female'}\n"
          ]
        }
      ]
    },
    {
      "cell_type": "code",
      "source": [
        "type(dict)"
      ],
      "metadata": {
        "id": "zG2IYJmjXsn0",
        "outputId": "7c3857a4-68ff-4327-9bd8-a8c053d05193",
        "colab": {
          "base_uri": "https://localhost:8080/"
        }
      },
      "execution_count": null,
      "outputs": [
        {
          "output_type": "execute_result",
          "data": {
            "text/plain": [
              "dict"
            ]
          },
          "metadata": {},
          "execution_count": 120
        }
      ]
    },
    {
      "cell_type": "code",
      "source": [
        "name=input('Enter your name here:')\n",
        "age=int(input('Enter your age here:'))\n",
        "amt=int(input('Enter the total amount:'))\n",
        "\n",
        "if age >= 55:\n",
        "  perdis=amt*10/100\n",
        "  disamt=amt-perdis\n",
        "  print(\"Hi! you are elligible for senior citizen discount\")\n",
        "  print(\"Hi {} ,Please pay an amount of {}\".format(name,disamt))\n",
        "else:\n",
        "  print(\"Hi {} ,Please pay an amount of {}\".format(name,amt))\n"
      ],
      "metadata": {
        "id": "d3L9JK8-XsqX",
        "outputId": "46518b12-1200-4103-8cb5-b25b21e551c0",
        "colab": {
          "base_uri": "https://localhost:8080/"
        }
      },
      "execution_count": null,
      "outputs": [
        {
          "output_type": "stream",
          "name": "stdout",
          "text": [
            "Enter your name here:ranjana gayutam\n",
            "Enter your age here:31\n",
            "Enter the total amount:1000\n",
            "Hi ranjana gayutam ,Please pay an amount of 1000\n"
          ]
        }
      ]
    },
    {
      "cell_type": "code",
      "source": [
        "#guessing random number\n",
        "num1=int(input(\"Enter first number here :\"))\n",
        "num2=int(input(\"Enter second number here :\"))\n",
        "\n",
        "if num1 > num2:\n",
        "  print(num1,\"is greater number\")\n",
        "elif num2 > num1:\n",
        "  print(num2,\"is greater number\")\n",
        "else:\n",
        "  print(num1,\"and\",num2,\"are equal numbers\")\n",
        "\n",
        "\n"
      ],
      "metadata": {
        "id": "42VtCh9cXstd",
        "colab": {
          "base_uri": "https://localhost:8080/"
        },
        "outputId": "6338cb1f-fcd8-45fa-e07d-2533ab0e0e25"
      },
      "execution_count": null,
      "outputs": [
        {
          "output_type": "stream",
          "name": "stdout",
          "text": [
            "Enter first number here :55\n",
            "Enter second number here :66\n",
            "66 is greater number\n"
          ]
        }
      ]
    },
    {
      "cell_type": "code",
      "source": [
        "# giving second guess chance\n",
        "import random as r\n",
        "rannum=r.randint(1,5)\n",
        "num=int(input(\"Enter your guess number (1-5):\"))\n",
        "\n",
        "if num == rannum:\n",
        "  print(\"You Won!!!\")\n",
        "  print( \"The ans is\" ,rannum)\n",
        "else:\n",
        "  num2=int(input(\"Enter your second guess number (1-5):\"))\n",
        "  if num2 == rannum:\n",
        "    print(\"You Won!!!\")\n",
        "    print( \"The ans is\" ,rannum)\n",
        "  else:\n",
        "    print(\"Better luck next time\")\n",
        "    print( \"The ans is\" ,rannum)\n",
        "\n",
        "print(\"Game over! Thanks for playing\")"
      ],
      "metadata": {
        "id": "up1w4qN2XswP",
        "colab": {
          "base_uri": "https://localhost:8080/"
        },
        "outputId": "4063863c-7f71-4086-a3bc-99638a41c413"
      },
      "execution_count": null,
      "outputs": [
        {
          "output_type": "stream",
          "name": "stdout",
          "text": [
            "Enter your guess number (1-5):5\n",
            "Enter your second guess number (1-5):4\n",
            "Better luck next time\n",
            "The ans is 1\n",
            "Game over! Thanks for playing\n"
          ]
        }
      ]
    },
    {
      "cell_type": "code",
      "source": [
        "numb1=int(input(\"Enter your number (n1):\"))\n",
        "numb2=int(input(\"Enter your number (n2):\"))\n",
        "numb3=int(input(\"Enter your number (n3):\"))\n",
        "\n",
        "if numb1 >= numb2 and numb1 >= numb3:\n",
        "  print( numb1,\"is greater number\")\n",
        "elif numb2 >= numb1 and numb2 >= numb3:\n",
        "  print( numb2,\"is greater number\")\n",
        "else:\n",
        "  print( numb3,\"is greater number\")\n",
        "\n",
        "\n"
      ],
      "metadata": {
        "id": "-Jlf4g4HXsys",
        "colab": {
          "base_uri": "https://localhost:8080/"
        },
        "outputId": "356ed207-14fc-40f2-a2f1-9421a9ea0cad"
      },
      "execution_count": null,
      "outputs": [
        {
          "output_type": "stream",
          "name": "stdout",
          "text": [
            "Enter your number (n1):55\n",
            "Enter your number (n2):22\n",
            "Enter your number (n3):66\n",
            "66 is greater number\n"
          ]
        }
      ]
    },
    {
      "cell_type": "code",
      "source": [
        "# giving appraisal and hike to employee based on their exp\n",
        "ex1=int(input(\"Enter your overall experience in this organisation (in months):\"))\n",
        "\n",
        "\n",
        "if ex1 >= 12:\n",
        "  print(\"Eligible for appraisal and Hike\")\n",
        "elif ex1 < 12:\n",
        "  ex2=int(input(\"Enter your overall experience in previous organisation (in months):\"))\n",
        "  if ex2 >=12:\n",
        "    print(\"appraisal and default Hike\")\n",
        "  else:\n",
        "    print(\"appraisal and No Hike\")\n",
        "\n"
      ],
      "metadata": {
        "id": "Ys5lXM6xXs19",
        "colab": {
          "base_uri": "https://localhost:8080/"
        },
        "outputId": "56447af8-021a-464e-8548-eb768a212fab"
      },
      "execution_count": null,
      "outputs": [
        {
          "output_type": "stream",
          "name": "stdout",
          "text": [
            "Enter your overall experience in this organisation (in months):11\n",
            "Enter your overall experience in previous organisation (in months):12\n",
            "appraisal and default Hike\n"
          ]
        }
      ]
    },
    {
      "cell_type": "code",
      "source": [
        "#print all single digit\n",
        "\n",
        "i=0\n",
        "while i < 10:\n",
        "  print(i)\n",
        "  i=i+1"
      ],
      "metadata": {
        "id": "JfdmtesTKZIG",
        "colab": {
          "base_uri": "https://localhost:8080/"
        },
        "outputId": "90138cd3-5f89-4581-b00d-863bdc24457c"
      },
      "execution_count": null,
      "outputs": [
        {
          "output_type": "stream",
          "name": "stdout",
          "text": [
            "0\n",
            "1\n",
            "2\n",
            "3\n",
            "4\n",
            "5\n",
            "6\n",
            "7\n",
            "8\n",
            "9\n"
          ]
        }
      ]
    },
    {
      "cell_type": "code",
      "source": [
        "\n",
        "for i in range(10):\n",
        "  print(i)"
      ],
      "metadata": {
        "colab": {
          "base_uri": "https://localhost:8080/"
        },
        "id": "Z1HhCGV0t8MQ",
        "outputId": "8b503cca-68f8-4f9d-d37d-8233c669a366"
      },
      "execution_count": null,
      "outputs": [
        {
          "output_type": "stream",
          "name": "stdout",
          "text": [
            "0\n",
            "1\n",
            "2\n",
            "3\n",
            "4\n",
            "5\n",
            "6\n",
            "7\n",
            "8\n",
            "9\n"
          ]
        }
      ]
    },
    {
      "cell_type": "code",
      "source": [
        "#even number between 1 to 20\n",
        "for i in range(21):\n",
        "  if i%2==0:\n",
        "    print(i)\n"
      ],
      "metadata": {
        "colab": {
          "base_uri": "https://localhost:8080/"
        },
        "id": "OR5F9tLGt8PM",
        "outputId": "5e51935a-0f48-406a-f9de-2866cf2e809b"
      },
      "execution_count": null,
      "outputs": [
        {
          "output_type": "stream",
          "name": "stdout",
          "text": [
            "0\n",
            "2\n",
            "4\n",
            "6\n",
            "8\n",
            "10\n",
            "12\n",
            "14\n",
            "16\n",
            "18\n",
            "20\n"
          ]
        }
      ]
    },
    {
      "cell_type": "code",
      "source": [
        "#print each letter of name\n",
        "\n",
        "nam=input(\"Enter your name here\")\n",
        "\n",
        "for i in nam:\n",
        "  print(i)"
      ],
      "metadata": {
        "colab": {
          "base_uri": "https://localhost:8080/"
        },
        "id": "rFWWX5SUt8RZ",
        "outputId": "1ea2c05c-92c2-48c9-916d-5171e5600a06"
      },
      "execution_count": null,
      "outputs": [
        {
          "output_type": "stream",
          "name": "stdout",
          "text": [
            "Enter your name hereranjana gautam\n",
            "r\n",
            "a\n",
            "n\n",
            "j\n",
            "a\n",
            "n\n",
            "a\n",
            " \n",
            "g\n",
            "a\n",
            "u\n",
            "t\n",
            "a\n",
            "m\n"
          ]
        }
      ]
    },
    {
      "cell_type": "code",
      "source": [
        "#factorial of a given number\n",
        "\n",
        "fact=int(input(\"Enter your number :\"))\n",
        "f=1\n",
        "for i in range(1,fact+1):\n",
        "  f *= i\n",
        "print(f)"
      ],
      "metadata": {
        "colab": {
          "base_uri": "https://localhost:8080/"
        },
        "id": "_4guEBTDt8UE",
        "outputId": "47976a6c-d94b-404e-8886-794f3100711b"
      },
      "execution_count": null,
      "outputs": [
        {
          "output_type": "stream",
          "name": "stdout",
          "text": [
            "Enter your number :8\n",
            "40320\n"
          ]
        }
      ]
    },
    {
      "cell_type": "code",
      "source": [
        "#print total of number from 10 to 99\n",
        "j=0\n",
        "for i in range(10,100):\n",
        "  j += i\n",
        "\n",
        "print(j)\n"
      ],
      "metadata": {
        "colab": {
          "base_uri": "https://localhost:8080/"
        },
        "id": "mLwbxSUxt8W7",
        "outputId": "216345b7-d2db-457d-e8d4-1ecc8c597d01"
      },
      "execution_count": null,
      "outputs": [
        {
          "output_type": "stream",
          "name": "stdout",
          "text": [
            "4905\n"
          ]
        }
      ]
    },
    {
      "cell_type": "code",
      "source": [
        "#print sum of all even number from 10 to 99\n",
        "j=0\n",
        "for i in range(10,100):\n",
        "  if i%2 ==0:\n",
        "    j += i\n",
        "\n",
        "print(j)\n"
      ],
      "metadata": {
        "colab": {
          "base_uri": "https://localhost:8080/"
        },
        "id": "P-PhvU54t8Zw",
        "outputId": "258ac8e1-9ad7-4f3b-fd92-c6546a87fbfe"
      },
      "execution_count": null,
      "outputs": [
        {
          "output_type": "stream",
          "name": "stdout",
          "text": [
            "2430\n"
          ]
        }
      ]
    },
    {
      "cell_type": "code",
      "source": [
        "#print sum of all odd number from 10 to 99\n",
        "j=0\n",
        "for i in range(10,100):\n",
        "  if i%2 !=0:\n",
        "    j += i\n",
        "\n",
        "print(j)"
      ],
      "metadata": {
        "colab": {
          "base_uri": "https://localhost:8080/"
        },
        "id": "CNJ-c9hN0fPB",
        "outputId": "584d6f6d-b783-4476-bc0c-9a316b537637"
      },
      "execution_count": null,
      "outputs": [
        {
          "output_type": "stream",
          "name": "stdout",
          "text": [
            "2475\n"
          ]
        }
      ]
    },
    {
      "cell_type": "code",
      "source": [
        "#string with its index position\n",
        "\n",
        "str=input(\"Enter your number :\")\n",
        "s=0\n",
        "for i in str:\n",
        "  print(\"({},'{}')\".format(s,i))\n",
        "  s += 1"
      ],
      "metadata": {
        "colab": {
          "base_uri": "https://localhost:8080/"
        },
        "id": "NnR-_Hxt0fR_",
        "outputId": "cb6187d3-673f-4ade-c79e-98a7470c4348"
      },
      "execution_count": null,
      "outputs": [
        {
          "output_type": "stream",
          "name": "stdout",
          "text": [
            "Enter your number :ranjana gautam\n",
            "(0,'r')\n",
            "(1,'a')\n",
            "(2,'n')\n",
            "(3,'j')\n",
            "(4,'a')\n",
            "(5,'n')\n",
            "(6,'a')\n",
            "(7,' ')\n",
            "(8,'g')\n",
            "(9,'a')\n",
            "(10,'u')\n",
            "(11,'t')\n",
            "(12,'a')\n",
            "(13,'m')\n"
          ]
        }
      ]
    },
    {
      "cell_type": "code",
      "source": [
        "#join each item of 1 list to another list\n",
        "\n",
        "item=[\"juice\",\"salad\",\"sandwitch\",\"paratha\",\"idli\",\"sambhar\",\"dosa\",\"misal pav\"]\n",
        "price=[100,150,80,180,90,120,50,110]\n",
        "for i in range(len(item)):\n",
        "  print(item[i],price[i])"
      ],
      "metadata": {
        "colab": {
          "base_uri": "https://localhost:8080/"
        },
        "id": "HE5ZJmAc0fUe",
        "outputId": "c8acbf09-6019-451a-f9c1-a1dc1b8f6551"
      },
      "execution_count": null,
      "outputs": [
        {
          "output_type": "stream",
          "name": "stdout",
          "text": [
            "juice 100\n",
            "salad 150\n",
            "sandwitch 80\n",
            "paratha 180\n",
            "idli 90\n",
            "sambhar 120\n",
            "dosa 50\n",
            "misal pav 110\n"
          ]
        }
      ]
    },
    {
      "cell_type": "code",
      "source": [
        "# write table multiplication 1-5\n",
        "t=1\n",
        "for i in range(1,11):\n",
        "  for j in range(1,6) :\n",
        "    print(j * i,end=\" \")\n",
        "    t =+ 1\n",
        "  print()"
      ],
      "metadata": {
        "colab": {
          "base_uri": "https://localhost:8080/"
        },
        "id": "s337h71T0fW1",
        "outputId": "cbf36f3e-59ff-42ab-991e-b273e9fdc722"
      },
      "execution_count": null,
      "outputs": [
        {
          "output_type": "stream",
          "name": "stdout",
          "text": [
            "1 2 3 4 5 \n",
            "2 4 6 8 10 \n",
            "3 6 9 12 15 \n",
            "4 8 12 16 20 \n",
            "5 10 15 20 25 \n",
            "6 12 18 24 30 \n",
            "7 14 21 28 35 \n",
            "8 16 24 32 40 \n",
            "9 18 27 36 45 \n",
            "10 20 30 40 50 \n"
          ]
        }
      ]
    },
    {
      "cell_type": "code",
      "source": [
        "# 10 first odd number\n",
        "b=1\n",
        "for i in range(10):\n",
        "  if b%2 != 0:\n",
        "    print(b)\n",
        "  b+=1"
      ],
      "metadata": {
        "colab": {
          "base_uri": "https://localhost:8080/"
        },
        "id": "X_d6UNw20fZ2",
        "outputId": "49096e9a-9040-49e1-ffb7-ac85e836b92a"
      },
      "execution_count": null,
      "outputs": [
        {
          "output_type": "stream",
          "name": "stdout",
          "text": [
            "1\n",
            "3\n",
            "5\n",
            "7\n",
            "9\n"
          ]
        }
      ]
    },
    {
      "cell_type": "code",
      "source": [
        "count = 0\n",
        "num = 1\n",
        "\n",
        "while count < 10:\n",
        "    if num % 2 != 0:\n",
        "        print(num)\n",
        "        count += 1\n",
        "    num += 1"
      ],
      "metadata": {
        "colab": {
          "base_uri": "https://localhost:8080/"
        },
        "id": "Fv3RVkBSLTCW",
        "outputId": "22e0c4d5-bcde-4eb7-926b-497880ce0d12"
      },
      "execution_count": null,
      "outputs": [
        {
          "output_type": "stream",
          "name": "stdout",
          "text": [
            "1\n",
            "3\n",
            "5\n",
            "7\n",
            "9\n",
            "11\n",
            "13\n",
            "15\n",
            "17\n",
            "19\n"
          ]
        }
      ]
    }
  ],
  "metadata": {
    "colab": {
      "provenance": [],
      "include_colab_link": true
    },
    "kernelspec": {
      "display_name": "Python 3",
      "name": "python3"
    }
  },
  "nbformat": 4,
  "nbformat_minor": 0
}